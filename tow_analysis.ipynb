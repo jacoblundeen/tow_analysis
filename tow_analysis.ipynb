{
 "cells": [
  {
   "metadata": {
    "ExecuteTime": {
     "end_time": "2024-06-04T18:36:53.769368Z",
     "start_time": "2024-06-04T18:36:52.932260Z"
    }
   },
   "cell_type": "code",
   "source": [
    "import pandas as pd\n",
    "import numpy as np\n",
    "import plotnine as pn\n",
    "from matplotlib import pyplot as plt\n",
    "import plotly.express as px"
   ],
   "id": "69ae13f14414215c",
   "outputs": [],
   "execution_count": 1
  },
  {
   "metadata": {
    "ExecuteTime": {
     "end_time": "2024-06-04T18:36:54.410786Z",
     "start_time": "2024-06-04T18:36:53.770794Z"
    }
   },
   "cell_type": "code",
   "source": [
    "tow = pd.read_excel('tow.xlsx')\n",
    "tow.columns = map(str.lower, tow.columns)\n",
    "tow.columns = tow.columns.str.replace(' ', '_')\n",
    "tow.columns = tow.columns.str.replace('?', '')\n",
    "faction_replace = {'Warriors of Chaos': 'W_Chaos', 'Tomb Kings of Khemri': 'Tomb Kings', 'Kingdom of Bretonnia': 'Bretonnia', 'Ogre Kingdoms': 'Ogres', 'Wood Elf Realms': 'Wood Elves', 'Dwarfen Mountain Holds': 'Dwarves', 'Orc and Goblin Tribes': 'O&G', 'Empire of Man': 'Empire', 'Beastmen Breyherds': 'Beastmen', 'High Elf Realms': 'High Elves', 'Daemons of Chaos': 'D_Chaos'}\n",
    "result_replace = {1:0.5, 2:1}\n",
    "tow.replace({'player1_faction':faction_replace}, inplace=True)\n",
    "tow.replace({'player2_faction':faction_replace}, inplace=True)\n",
    "tow.replace({'player1_result': result_replace}, inplace=True)\n",
    "tow.replace({'player2_result': result_replace}, inplace=True)"
   ],
   "id": "fae6a3676b2faf27",
   "outputs": [],
   "execution_count": 2
  },
  {
   "metadata": {},
   "cell_type": "markdown",
   "source": [
    "# Warhammer: The Old World\n",
    "## A Statistical Analysis of Tournament Win Rates\n",
    "### By: Jacob M. Lundeen\n",
    "\n",
    "I was first introduced to Games Workshop's (GW) Warhammer: Fantasy Battles (WFB) back in the mid 1990's in Fairfax, Virginia. I was in the fifth or sixth grade and wondered by a GW store with my parents. I convinced them to take me in and managed to walk out with my first eight pack of skeleton warriors (Undead for life!). Over the next couple of years I would acquire a healthy collection of miniatures that was significantly boosted by my winning a White Dwarf survey contest and bringing home $5k worth of Tyranids, Dogs of War, Blood Bowl, and a others. As I grew up, I lost interest in WFB for various reasons as a lot of kids do. However, with WFB being reborn as Warhammer: The Old World (TOW) earlier this year, and me as an adult able to afford this hobby, I jumped back in and haven't looked back.\n",
    "\n",
    "Since I've rediscovered TOW, I've wanted to combine TOW with one of my other passions, Data Science. With TOW only having returned earlier this year, the available data set is still immature. As we'll see there are many instances of incredible small sample sizes when we look at specific faction versus faction. But my hope is this will give an interesting look into where the game currently stands, where it might need to go, and lead to other interesting questions to ask and explore."
   ],
   "id": "94232362f6169aaf"
  },
  {
   "metadata": {},
   "cell_type": "markdown",
   "source": [
    "## The Data\n",
    "The data I am using comes from the Woehammer website (woehammer.com). They compiled their dataset by scraping several tournament tracking websites such as Best Coast Pairings (bestcoastpairings.com). Tournaments use these websites to manage and track their results. I've already done the intial cleaning of the dataset, getting the column names correct and replacing the faction names with shorter names for ease of reading."
   ],
   "id": "4e3856a835b5b0b4"
  },
  {
   "metadata": {
    "ExecuteTime": {
     "end_time": "2024-06-04T18:36:54.417110Z",
     "start_time": "2024-06-04T18:36:54.411791Z"
    }
   },
   "cell_type": "code",
   "source": "tow.shape",
   "id": "58e089ed27e2ba48",
   "outputs": [
    {
     "data": {
      "text/plain": [
       "(2030, 31)"
      ]
     },
     "execution_count": 3,
     "metadata": {},
     "output_type": "execute_result"
    }
   ],
   "execution_count": 3
  },
  {
   "metadata": {
    "ExecuteTime": {
     "end_time": "2024-06-04T18:36:54.432387Z",
     "start_time": "2024-06-04T18:36:54.418115Z"
    }
   },
   "cell_type": "code",
   "source": "tow.head()",
   "id": "1d0a65efe2dfcf64",
   "outputs": [
    {
     "data": {
      "text/plain": [
       "   pairing_id  round      player1_name    player2_name  player1_result  \\\n",
       "0      405136      1   Ridvan Martinez    David Clarke             1.0   \n",
       "1      405155      1  Mike Summerfeldt    Russ Jeffery             0.0   \n",
       "2      405171      1    Brandon Deamer  Eddie Crampton             1.0   \n",
       "3      405192      1     taylor hanson  Luka Pavicevic             0.0   \n",
       "4      405199      1        Eric Locke   Danny Stewart             0.0   \n",
       "\n",
       "   player2_result  player1_score  player2_score  \\\n",
       "0             0.0         1770.0          901.0   \n",
       "1             1.0          450.0         1920.0   \n",
       "2             0.0         1745.0         1531.0   \n",
       "3             1.0          867.0         1205.0   \n",
       "4             1.0          815.0         1206.0   \n",
       "\n",
       "                        event_name          event_date  ... points rounds  \\\n",
       "0  The First Old World Forgemaster 2024-02-03 14:00:00  ...   2000      3   \n",
       "1  The First Old World Forgemaster 2024-02-03 14:00:00  ...   2000      3   \n",
       "2  The First Old World Forgemaster 2024-02-03 14:00:00  ...   2000      3   \n",
       "3  The First Old World Forgemaster 2024-02-03 14:00:00  ...   2000      3   \n",
       "4  The First Old World Forgemaster 2024-02-03 14:00:00  ...   2000      3   \n",
       "\n",
       "   ruleset  full_data mirror_match  players legacy_lists  allies rule_of_3  \\\n",
       "0     v1.1          N            N       12            Y     NaN       NaN   \n",
       "1     v1.1          Y            N       12            Y     NaN       NaN   \n",
       "2     v1.1          Y            N       12            Y     NaN       NaN   \n",
       "3     v1.1          Y            N       12            Y     NaN       NaN   \n",
       "4     v1.1          N            N       12            Y     NaN       NaN   \n",
       "\n",
       "                            faction_v_faction  \n",
       "0                             Wood Elf Realms  \n",
       "1            Warriors of ChaosWood Elf Realms  \n",
       "2         Tomb Kings of KhemriHigh Elf Realms  \n",
       "3  Kingdom of BretonniaDwarfen Mountain Holds  \n",
       "4                               Ogre Kingdoms  \n",
       "\n",
       "[5 rows x 31 columns]"
      ],
      "text/html": [
       "<div>\n",
       "<style scoped>\n",
       "    .dataframe tbody tr th:only-of-type {\n",
       "        vertical-align: middle;\n",
       "    }\n",
       "\n",
       "    .dataframe tbody tr th {\n",
       "        vertical-align: top;\n",
       "    }\n",
       "\n",
       "    .dataframe thead th {\n",
       "        text-align: right;\n",
       "    }\n",
       "</style>\n",
       "<table border=\"1\" class=\"dataframe\">\n",
       "  <thead>\n",
       "    <tr style=\"text-align: right;\">\n",
       "      <th></th>\n",
       "      <th>pairing_id</th>\n",
       "      <th>round</th>\n",
       "      <th>player1_name</th>\n",
       "      <th>player2_name</th>\n",
       "      <th>player1_result</th>\n",
       "      <th>player2_result</th>\n",
       "      <th>player1_score</th>\n",
       "      <th>player2_score</th>\n",
       "      <th>event_name</th>\n",
       "      <th>event_date</th>\n",
       "      <th>...</th>\n",
       "      <th>points</th>\n",
       "      <th>rounds</th>\n",
       "      <th>ruleset</th>\n",
       "      <th>full_data</th>\n",
       "      <th>mirror_match</th>\n",
       "      <th>players</th>\n",
       "      <th>legacy_lists</th>\n",
       "      <th>allies</th>\n",
       "      <th>rule_of_3</th>\n",
       "      <th>faction_v_faction</th>\n",
       "    </tr>\n",
       "  </thead>\n",
       "  <tbody>\n",
       "    <tr>\n",
       "      <th>0</th>\n",
       "      <td>405136</td>\n",
       "      <td>1</td>\n",
       "      <td>Ridvan Martinez</td>\n",
       "      <td>David Clarke</td>\n",
       "      <td>1.0</td>\n",
       "      <td>0.0</td>\n",
       "      <td>1770.0</td>\n",
       "      <td>901.0</td>\n",
       "      <td>The First Old World Forgemaster</td>\n",
       "      <td>2024-02-03 14:00:00</td>\n",
       "      <td>...</td>\n",
       "      <td>2000</td>\n",
       "      <td>3</td>\n",
       "      <td>v1.1</td>\n",
       "      <td>N</td>\n",
       "      <td>N</td>\n",
       "      <td>12</td>\n",
       "      <td>Y</td>\n",
       "      <td>NaN</td>\n",
       "      <td>NaN</td>\n",
       "      <td>Wood Elf Realms</td>\n",
       "    </tr>\n",
       "    <tr>\n",
       "      <th>1</th>\n",
       "      <td>405155</td>\n",
       "      <td>1</td>\n",
       "      <td>Mike Summerfeldt</td>\n",
       "      <td>Russ Jeffery</td>\n",
       "      <td>0.0</td>\n",
       "      <td>1.0</td>\n",
       "      <td>450.0</td>\n",
       "      <td>1920.0</td>\n",
       "      <td>The First Old World Forgemaster</td>\n",
       "      <td>2024-02-03 14:00:00</td>\n",
       "      <td>...</td>\n",
       "      <td>2000</td>\n",
       "      <td>3</td>\n",
       "      <td>v1.1</td>\n",
       "      <td>Y</td>\n",
       "      <td>N</td>\n",
       "      <td>12</td>\n",
       "      <td>Y</td>\n",
       "      <td>NaN</td>\n",
       "      <td>NaN</td>\n",
       "      <td>Warriors of ChaosWood Elf Realms</td>\n",
       "    </tr>\n",
       "    <tr>\n",
       "      <th>2</th>\n",
       "      <td>405171</td>\n",
       "      <td>1</td>\n",
       "      <td>Brandon Deamer</td>\n",
       "      <td>Eddie Crampton</td>\n",
       "      <td>1.0</td>\n",
       "      <td>0.0</td>\n",
       "      <td>1745.0</td>\n",
       "      <td>1531.0</td>\n",
       "      <td>The First Old World Forgemaster</td>\n",
       "      <td>2024-02-03 14:00:00</td>\n",
       "      <td>...</td>\n",
       "      <td>2000</td>\n",
       "      <td>3</td>\n",
       "      <td>v1.1</td>\n",
       "      <td>Y</td>\n",
       "      <td>N</td>\n",
       "      <td>12</td>\n",
       "      <td>Y</td>\n",
       "      <td>NaN</td>\n",
       "      <td>NaN</td>\n",
       "      <td>Tomb Kings of KhemriHigh Elf Realms</td>\n",
       "    </tr>\n",
       "    <tr>\n",
       "      <th>3</th>\n",
       "      <td>405192</td>\n",
       "      <td>1</td>\n",
       "      <td>taylor hanson</td>\n",
       "      <td>Luka Pavicevic</td>\n",
       "      <td>0.0</td>\n",
       "      <td>1.0</td>\n",
       "      <td>867.0</td>\n",
       "      <td>1205.0</td>\n",
       "      <td>The First Old World Forgemaster</td>\n",
       "      <td>2024-02-03 14:00:00</td>\n",
       "      <td>...</td>\n",
       "      <td>2000</td>\n",
       "      <td>3</td>\n",
       "      <td>v1.1</td>\n",
       "      <td>Y</td>\n",
       "      <td>N</td>\n",
       "      <td>12</td>\n",
       "      <td>Y</td>\n",
       "      <td>NaN</td>\n",
       "      <td>NaN</td>\n",
       "      <td>Kingdom of BretonniaDwarfen Mountain Holds</td>\n",
       "    </tr>\n",
       "    <tr>\n",
       "      <th>4</th>\n",
       "      <td>405199</td>\n",
       "      <td>1</td>\n",
       "      <td>Eric Locke</td>\n",
       "      <td>Danny Stewart</td>\n",
       "      <td>0.0</td>\n",
       "      <td>1.0</td>\n",
       "      <td>815.0</td>\n",
       "      <td>1206.0</td>\n",
       "      <td>The First Old World Forgemaster</td>\n",
       "      <td>2024-02-03 14:00:00</td>\n",
       "      <td>...</td>\n",
       "      <td>2000</td>\n",
       "      <td>3</td>\n",
       "      <td>v1.1</td>\n",
       "      <td>N</td>\n",
       "      <td>N</td>\n",
       "      <td>12</td>\n",
       "      <td>Y</td>\n",
       "      <td>NaN</td>\n",
       "      <td>NaN</td>\n",
       "      <td>Ogre Kingdoms</td>\n",
       "    </tr>\n",
       "  </tbody>\n",
       "</table>\n",
       "<p>5 rows × 31 columns</p>\n",
       "</div>"
      ]
     },
     "execution_count": 4,
     "metadata": {},
     "output_type": "execute_result"
    }
   ],
   "execution_count": 4
  },
  {
   "metadata": {},
   "cell_type": "markdown",
   "source": "So we currently have 2020 entries and 31 variables. We are not interested in all of these variables, I'll primarily be looking at player1_result, player2_result, player1_faction, player2_faction, points, and ruleset. The dataset also has two columns, full_data and mirror_match, that will help us filter for the data we want. The former identifies any match where one or both of the players have missing data (name, result, faction) and the latter is if the same faction plays against itself which will be excluded from analysis.",
   "id": "bb32a714fcb845ec"
  },
  {
   "metadata": {
    "ExecuteTime": {
     "end_time": "2024-06-04T18:36:54.443699Z",
     "start_time": "2024-06-04T18:36:54.434392Z"
    }
   },
   "cell_type": "code",
   "source": [
    "tow = tow.query(\"`mirror_match` == 'N' & full_data == 'Y'\")\n",
    "tow.shape"
   ],
   "id": "ee310e3c03fb62fc",
   "outputs": [
    {
     "data": {
      "text/plain": [
       "(1616, 31)"
      ]
     },
     "execution_count": 5,
     "metadata": {},
     "output_type": "execute_result"
    }
   ],
   "execution_count": 5
  },
  {
   "metadata": {},
   "cell_type": "markdown",
   "source": "With the initial filtering done, we stand at 1616 samples. However, each sample contains the data for both players. To be able to do any analysis, we need to transform the dataset so each sample pertains to a single player's (or for our focus faction's) result.",
   "id": "2577d8c1f722515b"
  },
  {
   "metadata": {
    "ExecuteTime": {
     "end_time": "2024-06-04T18:36:54.455269Z",
     "start_time": "2024-06-04T18:36:54.444707Z"
    }
   },
   "cell_type": "code",
   "source": [
    "player1_db = tow[['player1_faction', 'player2_faction' ,'player1_result', 'points', 'rounds', 'ruleset', 'players']] .rename(columns={\"player1_faction\": \"player_faction\", \"player2_faction\" : \"opponent_faction\", \"player1_result\" : \"result\"})\n",
    "player2_db = tow[['player2_faction', 'player1_faction', 'player2_result', 'points', 'rounds', 'ruleset', 'players']].rename(columns={\"player2_faction\": \"player_faction\", \"player1_faction\" : \"opponent_faction\", \"player2_result\" : \"result\"})\n",
    "player_db = pd.concat([player1_db, player2_db], ignore_index=True)\n",
    "display(player_db)"
   ],
   "id": "4788147a84b3221f",
   "outputs": [
    {
     "data": {
      "text/plain": [
       "     player_faction opponent_faction  result  points  rounds ruleset  players\n",
       "0           W_Chaos       Wood Elves     0.0    2000       3    v1.1       12\n",
       "1        Tomb Kings       High Elves     1.0    2000       3    v1.1       12\n",
       "2         Bretonnia          Dwarves     0.0    2000       3    v1.1       12\n",
       "3             Ogres          Dwarves     1.0    2000       3    v1.1       12\n",
       "4        Wood Elves       Tomb Kings     1.0    2000       3    v1.1       12\n",
       "...             ...              ...     ...     ...     ...     ...      ...\n",
       "3227     High Elves       Dark Elves     1.0    1250       3    v1.2       10\n",
       "3228      Bretonnia           Skaven     0.0    1250       3    v1.2       10\n",
       "3229     Tomb Kings            Ogres     1.0    1250       3    v1.2       10\n",
       "3230            O&G          D_Chaos     0.0    1250       3    v1.2       10\n",
       "3231      Bretonnia              O&G     0.0    1250       3    v1.2       10\n",
       "\n",
       "[3232 rows x 7 columns]"
      ],
      "text/html": [
       "<div>\n",
       "<style scoped>\n",
       "    .dataframe tbody tr th:only-of-type {\n",
       "        vertical-align: middle;\n",
       "    }\n",
       "\n",
       "    .dataframe tbody tr th {\n",
       "        vertical-align: top;\n",
       "    }\n",
       "\n",
       "    .dataframe thead th {\n",
       "        text-align: right;\n",
       "    }\n",
       "</style>\n",
       "<table border=\"1\" class=\"dataframe\">\n",
       "  <thead>\n",
       "    <tr style=\"text-align: right;\">\n",
       "      <th></th>\n",
       "      <th>player_faction</th>\n",
       "      <th>opponent_faction</th>\n",
       "      <th>result</th>\n",
       "      <th>points</th>\n",
       "      <th>rounds</th>\n",
       "      <th>ruleset</th>\n",
       "      <th>players</th>\n",
       "    </tr>\n",
       "  </thead>\n",
       "  <tbody>\n",
       "    <tr>\n",
       "      <th>0</th>\n",
       "      <td>W_Chaos</td>\n",
       "      <td>Wood Elves</td>\n",
       "      <td>0.0</td>\n",
       "      <td>2000</td>\n",
       "      <td>3</td>\n",
       "      <td>v1.1</td>\n",
       "      <td>12</td>\n",
       "    </tr>\n",
       "    <tr>\n",
       "      <th>1</th>\n",
       "      <td>Tomb Kings</td>\n",
       "      <td>High Elves</td>\n",
       "      <td>1.0</td>\n",
       "      <td>2000</td>\n",
       "      <td>3</td>\n",
       "      <td>v1.1</td>\n",
       "      <td>12</td>\n",
       "    </tr>\n",
       "    <tr>\n",
       "      <th>2</th>\n",
       "      <td>Bretonnia</td>\n",
       "      <td>Dwarves</td>\n",
       "      <td>0.0</td>\n",
       "      <td>2000</td>\n",
       "      <td>3</td>\n",
       "      <td>v1.1</td>\n",
       "      <td>12</td>\n",
       "    </tr>\n",
       "    <tr>\n",
       "      <th>3</th>\n",
       "      <td>Ogres</td>\n",
       "      <td>Dwarves</td>\n",
       "      <td>1.0</td>\n",
       "      <td>2000</td>\n",
       "      <td>3</td>\n",
       "      <td>v1.1</td>\n",
       "      <td>12</td>\n",
       "    </tr>\n",
       "    <tr>\n",
       "      <th>4</th>\n",
       "      <td>Wood Elves</td>\n",
       "      <td>Tomb Kings</td>\n",
       "      <td>1.0</td>\n",
       "      <td>2000</td>\n",
       "      <td>3</td>\n",
       "      <td>v1.1</td>\n",
       "      <td>12</td>\n",
       "    </tr>\n",
       "    <tr>\n",
       "      <th>...</th>\n",
       "      <td>...</td>\n",
       "      <td>...</td>\n",
       "      <td>...</td>\n",
       "      <td>...</td>\n",
       "      <td>...</td>\n",
       "      <td>...</td>\n",
       "      <td>...</td>\n",
       "    </tr>\n",
       "    <tr>\n",
       "      <th>3227</th>\n",
       "      <td>High Elves</td>\n",
       "      <td>Dark Elves</td>\n",
       "      <td>1.0</td>\n",
       "      <td>1250</td>\n",
       "      <td>3</td>\n",
       "      <td>v1.2</td>\n",
       "      <td>10</td>\n",
       "    </tr>\n",
       "    <tr>\n",
       "      <th>3228</th>\n",
       "      <td>Bretonnia</td>\n",
       "      <td>Skaven</td>\n",
       "      <td>0.0</td>\n",
       "      <td>1250</td>\n",
       "      <td>3</td>\n",
       "      <td>v1.2</td>\n",
       "      <td>10</td>\n",
       "    </tr>\n",
       "    <tr>\n",
       "      <th>3229</th>\n",
       "      <td>Tomb Kings</td>\n",
       "      <td>Ogres</td>\n",
       "      <td>1.0</td>\n",
       "      <td>1250</td>\n",
       "      <td>3</td>\n",
       "      <td>v1.2</td>\n",
       "      <td>10</td>\n",
       "    </tr>\n",
       "    <tr>\n",
       "      <th>3230</th>\n",
       "      <td>O&amp;G</td>\n",
       "      <td>D_Chaos</td>\n",
       "      <td>0.0</td>\n",
       "      <td>1250</td>\n",
       "      <td>3</td>\n",
       "      <td>v1.2</td>\n",
       "      <td>10</td>\n",
       "    </tr>\n",
       "    <tr>\n",
       "      <th>3231</th>\n",
       "      <td>Bretonnia</td>\n",
       "      <td>O&amp;G</td>\n",
       "      <td>0.0</td>\n",
       "      <td>1250</td>\n",
       "      <td>3</td>\n",
       "      <td>v1.2</td>\n",
       "      <td>10</td>\n",
       "    </tr>\n",
       "  </tbody>\n",
       "</table>\n",
       "<p>3232 rows × 7 columns</p>\n",
       "</div>"
      ]
     },
     "metadata": {},
     "output_type": "display_data"
    }
   ],
   "execution_count": 6
  },
  {
   "metadata": {},
   "cell_type": "markdown",
   "source": "There we go, 3232 samples with 7 variables. So without filtering any more, lets look at the overall win rate of each faction (a tie will count as half a win).",
   "id": "39af09bffb698f58"
  },
  {
   "metadata": {
    "ExecuteTime": {
     "end_time": "2024-06-04T18:36:54.470759Z",
     "start_time": "2024-06-04T18:36:54.456274Z"
    }
   },
   "cell_type": "code",
   "source": [
    "tow_faction_wr = player_db.groupby(['player_faction'])['opponent_faction'].count().reset_index()\n",
    "wins_db = player_db.query(\"result != 0.0\").groupby(['player_faction'])['opponent_faction'].count().reset_index()\n",
    "tow_faction_wr['wins'] = wins_db['opponent_faction']\n",
    "tow_faction_wr.rename(columns={'opponent_faction':'games_played'}, inplace=True)\n",
    "tow_faction_wr['win_rate'] = tow_faction_wr['wins'] / tow_faction_wr['games_played']\n",
    "tow_faction_wr"
   ],
   "id": "db07b7fbde44b3a5",
   "outputs": [
    {
     "data": {
      "text/plain": [
       "        player_faction  games_played  wins  win_rate\n",
       "0   Beastmen Brayherds           163    92  0.564417\n",
       "1            Bretonnia           378   222  0.587302\n",
       "2         Chaos Dwarfs            59    30  0.508475\n",
       "3              D_Chaos            89    45  0.505618\n",
       "4           Dark Elves           137    70  0.510949\n",
       "5              Dwarves           258   128  0.496124\n",
       "6               Empire           240   102  0.425000\n",
       "7           High Elves           222   130  0.585586\n",
       "8            Lizardmen            84    39  0.464286\n",
       "9                  O&G           320   179  0.559375\n",
       "10               Ogres            95    45  0.473684\n",
       "11              Skaven            92    40  0.434783\n",
       "12          Tomb Kings           350   204  0.582857\n",
       "13      Vampire Counts           146    77  0.527397\n",
       "14             W_Chaos           378   209  0.552910\n",
       "15          Wood Elves           221   125  0.565611"
      ],
      "text/html": [
       "<div>\n",
       "<style scoped>\n",
       "    .dataframe tbody tr th:only-of-type {\n",
       "        vertical-align: middle;\n",
       "    }\n",
       "\n",
       "    .dataframe tbody tr th {\n",
       "        vertical-align: top;\n",
       "    }\n",
       "\n",
       "    .dataframe thead th {\n",
       "        text-align: right;\n",
       "    }\n",
       "</style>\n",
       "<table border=\"1\" class=\"dataframe\">\n",
       "  <thead>\n",
       "    <tr style=\"text-align: right;\">\n",
       "      <th></th>\n",
       "      <th>player_faction</th>\n",
       "      <th>games_played</th>\n",
       "      <th>wins</th>\n",
       "      <th>win_rate</th>\n",
       "    </tr>\n",
       "  </thead>\n",
       "  <tbody>\n",
       "    <tr>\n",
       "      <th>0</th>\n",
       "      <td>Beastmen Brayherds</td>\n",
       "      <td>163</td>\n",
       "      <td>92</td>\n",
       "      <td>0.564417</td>\n",
       "    </tr>\n",
       "    <tr>\n",
       "      <th>1</th>\n",
       "      <td>Bretonnia</td>\n",
       "      <td>378</td>\n",
       "      <td>222</td>\n",
       "      <td>0.587302</td>\n",
       "    </tr>\n",
       "    <tr>\n",
       "      <th>2</th>\n",
       "      <td>Chaos Dwarfs</td>\n",
       "      <td>59</td>\n",
       "      <td>30</td>\n",
       "      <td>0.508475</td>\n",
       "    </tr>\n",
       "    <tr>\n",
       "      <th>3</th>\n",
       "      <td>D_Chaos</td>\n",
       "      <td>89</td>\n",
       "      <td>45</td>\n",
       "      <td>0.505618</td>\n",
       "    </tr>\n",
       "    <tr>\n",
       "      <th>4</th>\n",
       "      <td>Dark Elves</td>\n",
       "      <td>137</td>\n",
       "      <td>70</td>\n",
       "      <td>0.510949</td>\n",
       "    </tr>\n",
       "    <tr>\n",
       "      <th>5</th>\n",
       "      <td>Dwarves</td>\n",
       "      <td>258</td>\n",
       "      <td>128</td>\n",
       "      <td>0.496124</td>\n",
       "    </tr>\n",
       "    <tr>\n",
       "      <th>6</th>\n",
       "      <td>Empire</td>\n",
       "      <td>240</td>\n",
       "      <td>102</td>\n",
       "      <td>0.425000</td>\n",
       "    </tr>\n",
       "    <tr>\n",
       "      <th>7</th>\n",
       "      <td>High Elves</td>\n",
       "      <td>222</td>\n",
       "      <td>130</td>\n",
       "      <td>0.585586</td>\n",
       "    </tr>\n",
       "    <tr>\n",
       "      <th>8</th>\n",
       "      <td>Lizardmen</td>\n",
       "      <td>84</td>\n",
       "      <td>39</td>\n",
       "      <td>0.464286</td>\n",
       "    </tr>\n",
       "    <tr>\n",
       "      <th>9</th>\n",
       "      <td>O&amp;G</td>\n",
       "      <td>320</td>\n",
       "      <td>179</td>\n",
       "      <td>0.559375</td>\n",
       "    </tr>\n",
       "    <tr>\n",
       "      <th>10</th>\n",
       "      <td>Ogres</td>\n",
       "      <td>95</td>\n",
       "      <td>45</td>\n",
       "      <td>0.473684</td>\n",
       "    </tr>\n",
       "    <tr>\n",
       "      <th>11</th>\n",
       "      <td>Skaven</td>\n",
       "      <td>92</td>\n",
       "      <td>40</td>\n",
       "      <td>0.434783</td>\n",
       "    </tr>\n",
       "    <tr>\n",
       "      <th>12</th>\n",
       "      <td>Tomb Kings</td>\n",
       "      <td>350</td>\n",
       "      <td>204</td>\n",
       "      <td>0.582857</td>\n",
       "    </tr>\n",
       "    <tr>\n",
       "      <th>13</th>\n",
       "      <td>Vampire Counts</td>\n",
       "      <td>146</td>\n",
       "      <td>77</td>\n",
       "      <td>0.527397</td>\n",
       "    </tr>\n",
       "    <tr>\n",
       "      <th>14</th>\n",
       "      <td>W_Chaos</td>\n",
       "      <td>378</td>\n",
       "      <td>209</td>\n",
       "      <td>0.552910</td>\n",
       "    </tr>\n",
       "    <tr>\n",
       "      <th>15</th>\n",
       "      <td>Wood Elves</td>\n",
       "      <td>221</td>\n",
       "      <td>125</td>\n",
       "      <td>0.565611</td>\n",
       "    </tr>\n",
       "  </tbody>\n",
       "</table>\n",
       "</div>"
      ]
     },
     "execution_count": 7,
     "metadata": {},
     "output_type": "execute_result"
    }
   ],
   "execution_count": 7
  },
  {
   "metadata": {},
   "cell_type": "markdown",
   "source": "So what do we see here: four factions have less than one hundred games played, but every faction has at least thirty wins. Four factions have over three hundred games played. Of the sixteen factions, nine have win rates outside the accepted \"sweet spot\" of 45-55%, with two of them being under 45% (Empire and Skaven). ",
   "id": "80a986bb214cd7b6"
  },
  {
   "metadata": {
    "ExecuteTime": {
     "end_time": "2024-06-04T18:36:54.484408Z",
     "start_time": "2024-06-04T18:36:54.471764Z"
    }
   },
   "cell_type": "code",
   "source": [
    "tk_db = player_db.query(\"player_faction == 'Tomb Kings of Khemri'\").groupby(['opponent_faction'])['player_faction'].count()\n",
    "tk_wins = player_db.query(\"player_faction == 'Tomb Kings of Khemri' & result == 2.0\").groupby('opponent_faction')['result'].count()\n",
    "tk_db = pd.concat([tk_db, tk_wins], axis=1).rename(columns={\"player_faction\": \"games_played\", \"result\": \"wins\"})\n",
    "tk_db['win_rate_by_faction'] = tk_db['wins']/tk_db['games_played']\n",
    "tk_db = tk_db.reset_index()\n",
    "tk_db = tk_db.fillna(0)\n",
    "tk_db"
   ],
   "id": "18705889a4a8e435",
   "outputs": [
    {
     "data": {
      "text/plain": [
       "Empty DataFrame\n",
       "Columns: [opponent_faction, games_played, wins, win_rate_by_faction]\n",
       "Index: []"
      ],
      "text/html": [
       "<div>\n",
       "<style scoped>\n",
       "    .dataframe tbody tr th:only-of-type {\n",
       "        vertical-align: middle;\n",
       "    }\n",
       "\n",
       "    .dataframe tbody tr th {\n",
       "        vertical-align: top;\n",
       "    }\n",
       "\n",
       "    .dataframe thead th {\n",
       "        text-align: right;\n",
       "    }\n",
       "</style>\n",
       "<table border=\"1\" class=\"dataframe\">\n",
       "  <thead>\n",
       "    <tr style=\"text-align: right;\">\n",
       "      <th></th>\n",
       "      <th>opponent_faction</th>\n",
       "      <th>games_played</th>\n",
       "      <th>wins</th>\n",
       "      <th>win_rate_by_faction</th>\n",
       "    </tr>\n",
       "  </thead>\n",
       "  <tbody>\n",
       "  </tbody>\n",
       "</table>\n",
       "</div>"
      ]
     },
     "execution_count": 8,
     "metadata": {},
     "output_type": "execute_result"
    }
   ],
   "execution_count": 8
  },
  {
   "metadata": {},
   "cell_type": "markdown",
   "source": "",
   "id": "beccbf212b69f784"
  },
  {
   "metadata": {
    "ExecuteTime": {
     "end_time": "2024-06-04T18:36:54.488788Z",
     "start_time": "2024-06-04T18:36:54.485412Z"
    }
   },
   "cell_type": "code",
   "source": "tk_db['games_played'].sum()",
   "id": "fb651a63d5ac0539",
   "outputs": [
    {
     "data": {
      "text/plain": [
       "0"
      ]
     },
     "execution_count": 9,
     "metadata": {},
     "output_type": "execute_result"
    }
   ],
   "execution_count": 9
  },
  {
   "metadata": {
    "ExecuteTime": {
     "end_time": "2024-06-04T18:36:55.657006Z",
     "start_time": "2024-06-04T18:36:54.489793Z"
    }
   },
   "cell_type": "code",
   "source": [
    "pn.ggplot(tk_db) + pn.aes(x='opponent_faction', y='win_rate_by_faction') + pn.geom_bar(stat = 'identity') + pn.geom_abline(intercept=tk_db['win_rate_by_faction'].mean(), slope=0, color=\"red\") + pn.theme_bw() + pn.theme(axis_text_x = pn.element_text(angle=45, hjust=1)) + pn.labs(title=\"Tomb Kings Win Rate by Faction\", subtitle='2000 points, >= 10 players, no mirror-matches', x=\"Opponent Faction\", y='Win Rate')\n",
    "\n"
   ],
   "id": "e3f122bb5bb7f5a9",
   "outputs": [
    {
     "ename": "TypeError",
     "evalue": "object of type 'NoneType' has no len()",
     "output_type": "error",
     "traceback": [
      "\u001B[1;31m---------------------------------------------------------------------------\u001B[0m",
      "\u001B[1;31mTypeError\u001B[0m                                 Traceback (most recent call last)",
      "File \u001B[1;32mC:\\ProgramData\\Anaconda3\\envs\\Project\\Lib\\site-packages\\IPython\\core\\formatters.py:708\u001B[0m, in \u001B[0;36mPlainTextFormatter.__call__\u001B[1;34m(self, obj)\u001B[0m\n\u001B[0;32m    701\u001B[0m stream \u001B[38;5;241m=\u001B[39m StringIO()\n\u001B[0;32m    702\u001B[0m printer \u001B[38;5;241m=\u001B[39m pretty\u001B[38;5;241m.\u001B[39mRepresentationPrinter(stream, \u001B[38;5;28mself\u001B[39m\u001B[38;5;241m.\u001B[39mverbose,\n\u001B[0;32m    703\u001B[0m     \u001B[38;5;28mself\u001B[39m\u001B[38;5;241m.\u001B[39mmax_width, \u001B[38;5;28mself\u001B[39m\u001B[38;5;241m.\u001B[39mnewline,\n\u001B[0;32m    704\u001B[0m     max_seq_length\u001B[38;5;241m=\u001B[39m\u001B[38;5;28mself\u001B[39m\u001B[38;5;241m.\u001B[39mmax_seq_length,\n\u001B[0;32m    705\u001B[0m     singleton_pprinters\u001B[38;5;241m=\u001B[39m\u001B[38;5;28mself\u001B[39m\u001B[38;5;241m.\u001B[39msingleton_printers,\n\u001B[0;32m    706\u001B[0m     type_pprinters\u001B[38;5;241m=\u001B[39m\u001B[38;5;28mself\u001B[39m\u001B[38;5;241m.\u001B[39mtype_printers,\n\u001B[0;32m    707\u001B[0m     deferred_pprinters\u001B[38;5;241m=\u001B[39m\u001B[38;5;28mself\u001B[39m\u001B[38;5;241m.\u001B[39mdeferred_printers)\n\u001B[1;32m--> 708\u001B[0m printer\u001B[38;5;241m.\u001B[39mpretty(obj)\n\u001B[0;32m    709\u001B[0m printer\u001B[38;5;241m.\u001B[39mflush()\n\u001B[0;32m    710\u001B[0m \u001B[38;5;28;01mreturn\u001B[39;00m stream\u001B[38;5;241m.\u001B[39mgetvalue()\n",
      "File \u001B[1;32mC:\\ProgramData\\Anaconda3\\envs\\Project\\Lib\\site-packages\\IPython\\lib\\pretty.py:410\u001B[0m, in \u001B[0;36mRepresentationPrinter.pretty\u001B[1;34m(self, obj)\u001B[0m\n\u001B[0;32m    407\u001B[0m                         \u001B[38;5;28;01mreturn\u001B[39;00m meth(obj, \u001B[38;5;28mself\u001B[39m, cycle)\n\u001B[0;32m    408\u001B[0m                 \u001B[38;5;28;01mif\u001B[39;00m \u001B[38;5;28mcls\u001B[39m \u001B[38;5;129;01mis\u001B[39;00m \u001B[38;5;129;01mnot\u001B[39;00m \u001B[38;5;28mobject\u001B[39m \\\n\u001B[0;32m    409\u001B[0m                         \u001B[38;5;129;01mand\u001B[39;00m \u001B[38;5;28mcallable\u001B[39m(\u001B[38;5;28mcls\u001B[39m\u001B[38;5;241m.\u001B[39m\u001B[38;5;18m__dict__\u001B[39m\u001B[38;5;241m.\u001B[39mget(\u001B[38;5;124m'\u001B[39m\u001B[38;5;124m__repr__\u001B[39m\u001B[38;5;124m'\u001B[39m)):\n\u001B[1;32m--> 410\u001B[0m                     \u001B[38;5;28;01mreturn\u001B[39;00m _repr_pprint(obj, \u001B[38;5;28mself\u001B[39m, cycle)\n\u001B[0;32m    412\u001B[0m     \u001B[38;5;28;01mreturn\u001B[39;00m _default_pprint(obj, \u001B[38;5;28mself\u001B[39m, cycle)\n\u001B[0;32m    413\u001B[0m \u001B[38;5;28;01mfinally\u001B[39;00m:\n",
      "File \u001B[1;32mC:\\ProgramData\\Anaconda3\\envs\\Project\\Lib\\site-packages\\IPython\\lib\\pretty.py:778\u001B[0m, in \u001B[0;36m_repr_pprint\u001B[1;34m(obj, p, cycle)\u001B[0m\n\u001B[0;32m    776\u001B[0m \u001B[38;5;250m\u001B[39m\u001B[38;5;124;03m\"\"\"A pprint that just redirects to the normal repr function.\"\"\"\u001B[39;00m\n\u001B[0;32m    777\u001B[0m \u001B[38;5;66;03m# Find newlines and replace them with p.break_()\u001B[39;00m\n\u001B[1;32m--> 778\u001B[0m output \u001B[38;5;241m=\u001B[39m \u001B[38;5;28mrepr\u001B[39m(obj)\n\u001B[0;32m    779\u001B[0m lines \u001B[38;5;241m=\u001B[39m output\u001B[38;5;241m.\u001B[39msplitlines()\n\u001B[0;32m    780\u001B[0m \u001B[38;5;28;01mwith\u001B[39;00m p\u001B[38;5;241m.\u001B[39mgroup():\n",
      "File \u001B[1;32mC:\\ProgramData\\Anaconda3\\envs\\Project\\Lib\\site-packages\\plotnine\\ggplot.py:114\u001B[0m, in \u001B[0;36mggplot.__repr__\u001B[1;34m(self)\u001B[0m\n\u001B[0;32m    110\u001B[0m \u001B[38;5;28;01mdef\u001B[39;00m \u001B[38;5;21m__repr__\u001B[39m(\u001B[38;5;28mself\u001B[39m) \u001B[38;5;241m-\u001B[39m\u001B[38;5;241m>\u001B[39m \u001B[38;5;28mstr\u001B[39m:\n\u001B[0;32m    111\u001B[0m \u001B[38;5;250m    \u001B[39m\u001B[38;5;124;03m\"\"\"\u001B[39;00m\n\u001B[0;32m    112\u001B[0m \u001B[38;5;124;03m    Print/show the plot\u001B[39;00m\n\u001B[0;32m    113\u001B[0m \u001B[38;5;124;03m    \"\"\"\u001B[39;00m\n\u001B[1;32m--> 114\u001B[0m     figure \u001B[38;5;241m=\u001B[39m \u001B[38;5;28mself\u001B[39m\u001B[38;5;241m.\u001B[39mdraw(show\u001B[38;5;241m=\u001B[39m\u001B[38;5;28;01mTrue\u001B[39;00m)\n\u001B[0;32m    116\u001B[0m     dpi \u001B[38;5;241m=\u001B[39m figure\u001B[38;5;241m.\u001B[39mget_dpi()\n\u001B[0;32m    117\u001B[0m     W \u001B[38;5;241m=\u001B[39m \u001B[38;5;28mint\u001B[39m(figure\u001B[38;5;241m.\u001B[39mget_figwidth() \u001B[38;5;241m*\u001B[39m dpi)\n",
      "File \u001B[1;32mC:\\ProgramData\\Anaconda3\\envs\\Project\\Lib\\site-packages\\plotnine\\ggplot.py:224\u001B[0m, in \u001B[0;36mggplot.draw\u001B[1;34m(self, show)\u001B[0m\n\u001B[0;32m    222\u001B[0m \u001B[38;5;28mself\u001B[39m \u001B[38;5;241m=\u001B[39m deepcopy(\u001B[38;5;28mself\u001B[39m)\n\u001B[0;32m    223\u001B[0m \u001B[38;5;28;01mwith\u001B[39;00m plot_context(\u001B[38;5;28mself\u001B[39m, show\u001B[38;5;241m=\u001B[39mshow):\n\u001B[1;32m--> 224\u001B[0m     \u001B[38;5;28mself\u001B[39m\u001B[38;5;241m.\u001B[39m_build()\n\u001B[0;32m    226\u001B[0m     \u001B[38;5;66;03m# setup\u001B[39;00m\n\u001B[0;32m    227\u001B[0m     figure, axs \u001B[38;5;241m=\u001B[39m \u001B[38;5;28mself\u001B[39m\u001B[38;5;241m.\u001B[39m_create_figure()\n",
      "File \u001B[1;32mC:\\ProgramData\\Anaconda3\\envs\\Project\\Lib\\site-packages\\plotnine\\ggplot.py:325\u001B[0m, in \u001B[0;36mggplot._build\u001B[1;34m(self)\u001B[0m\n\u001B[0;32m    322\u001B[0m \u001B[38;5;66;03m# Map and train positions so that statistics have access\u001B[39;00m\n\u001B[0;32m    323\u001B[0m \u001B[38;5;66;03m# to ranges and all positions are numeric\u001B[39;00m\n\u001B[0;32m    324\u001B[0m layout\u001B[38;5;241m.\u001B[39mtrain_position(layers, scales)\n\u001B[1;32m--> 325\u001B[0m layout\u001B[38;5;241m.\u001B[39mmap_position(layers)\n\u001B[0;32m    327\u001B[0m \u001B[38;5;66;03m# Apply and map statistics\u001B[39;00m\n\u001B[0;32m    328\u001B[0m layers\u001B[38;5;241m.\u001B[39mcompute_statistic(layout)\n",
      "File \u001B[1;32mC:\\ProgramData\\Anaconda3\\envs\\Project\\Lib\\site-packages\\plotnine\\facets\\layout.py:130\u001B[0m, in \u001B[0;36mLayout.map_position\u001B[1;34m(self, layers)\u001B[0m\n\u001B[0;32m    126\u001B[0m     x_vars \u001B[38;5;241m=\u001B[39m \u001B[38;5;28mlist\u001B[39m(\n\u001B[0;32m    127\u001B[0m         \u001B[38;5;28mset\u001B[39m(\u001B[38;5;28mself\u001B[39m\u001B[38;5;241m.\u001B[39mpanel_scales_x[\u001B[38;5;241m0\u001B[39m]\u001B[38;5;241m.\u001B[39maesthetics) \u001B[38;5;241m&\u001B[39m \u001B[38;5;28mset\u001B[39m(data\u001B[38;5;241m.\u001B[39mcolumns)\n\u001B[0;32m    128\u001B[0m     )\n\u001B[0;32m    129\u001B[0m     SCALE_X \u001B[38;5;241m=\u001B[39m _layout[\u001B[38;5;124m\"\u001B[39m\u001B[38;5;124mSCALE_X\u001B[39m\u001B[38;5;124m\"\u001B[39m]\u001B[38;5;241m.\u001B[39miloc[match_id]\u001B[38;5;241m.\u001B[39mtolist()\n\u001B[1;32m--> 130\u001B[0m     \u001B[38;5;28mself\u001B[39m\u001B[38;5;241m.\u001B[39mpanel_scales_x\u001B[38;5;241m.\u001B[39mmap(data, x_vars, SCALE_X)\n\u001B[0;32m    132\u001B[0m \u001B[38;5;28;01mif\u001B[39;00m \u001B[38;5;28mself\u001B[39m\u001B[38;5;241m.\u001B[39mpanel_scales_y:\n\u001B[0;32m    133\u001B[0m     y_vars \u001B[38;5;241m=\u001B[39m \u001B[38;5;28mlist\u001B[39m(\n\u001B[0;32m    134\u001B[0m         \u001B[38;5;28mset\u001B[39m(\u001B[38;5;28mself\u001B[39m\u001B[38;5;241m.\u001B[39mpanel_scales_y[\u001B[38;5;241m0\u001B[39m]\u001B[38;5;241m.\u001B[39maesthetics) \u001B[38;5;241m&\u001B[39m \u001B[38;5;28mset\u001B[39m(data\u001B[38;5;241m.\u001B[39mcolumns)\n\u001B[0;32m    135\u001B[0m     )\n",
      "File \u001B[1;32mC:\\ProgramData\\Anaconda3\\envs\\Project\\Lib\\site-packages\\plotnine\\scales\\scales.py:181\u001B[0m, in \u001B[0;36mScales.map\u001B[1;34m(self, data, vars, idx)\u001B[0m\n\u001B[0;32m    179\u001B[0m \u001B[38;5;28;01mfor\u001B[39;00m i, sc \u001B[38;5;129;01min\u001B[39;00m \u001B[38;5;28menumerate\u001B[39m(\u001B[38;5;28mself\u001B[39m, start\u001B[38;5;241m=\u001B[39m\u001B[38;5;241m1\u001B[39m):\n\u001B[0;32m    180\u001B[0m     bool_idx \u001B[38;5;241m=\u001B[39m i \u001B[38;5;241m==\u001B[39m idx\n\u001B[1;32m--> 181\u001B[0m     results \u001B[38;5;241m=\u001B[39m sc\u001B[38;5;241m.\u001B[39mmap(data\u001B[38;5;241m.\u001B[39mloc[bool_idx, col])\n\u001B[0;32m    182\u001B[0m     \u001B[38;5;28;01mif\u001B[39;00m use_df:\n\u001B[0;32m    183\u001B[0m         df\u001B[38;5;241m.\u001B[39mloc[bool_idx, col] \u001B[38;5;241m=\u001B[39m results\n",
      "File \u001B[1;32mC:\\ProgramData\\Anaconda3\\envs\\Project\\Lib\\site-packages\\plotnine\\scales\\scale_xy.py:85\u001B[0m, in \u001B[0;36mscale_position_discrete.map\u001B[1;34m(self, series, limits)\u001B[0m\n\u001B[0;32m     82\u001B[0m     limits \u001B[38;5;241m=\u001B[39m \u001B[38;5;28mself\u001B[39m\u001B[38;5;241m.\u001B[39mlimits\n\u001B[0;32m     83\u001B[0m \u001B[38;5;28;01mif\u001B[39;00m array_kind\u001B[38;5;241m.\u001B[39mdiscrete(series):\n\u001B[0;32m     84\u001B[0m     \u001B[38;5;66;03m# TODO: Rewrite without using numpy\u001B[39;00m\n\u001B[1;32m---> 85\u001B[0m     seq \u001B[38;5;241m=\u001B[39m np\u001B[38;5;241m.\u001B[39marange(\u001B[38;5;241m1\u001B[39m, \u001B[38;5;28mlen\u001B[39m(limits) \u001B[38;5;241m+\u001B[39m \u001B[38;5;241m1\u001B[39m)\n\u001B[0;32m     86\u001B[0m     idx \u001B[38;5;241m=\u001B[39m np\u001B[38;5;241m.\u001B[39masarray(match(series, limits, nomatch\u001B[38;5;241m=\u001B[39m\u001B[38;5;28mlen\u001B[39m(series)))\n\u001B[0;32m     87\u001B[0m     \u001B[38;5;28;01mif\u001B[39;00m \u001B[38;5;129;01mnot\u001B[39;00m \u001B[38;5;28mlen\u001B[39m(idx):\n",
      "\u001B[1;31mTypeError\u001B[0m: object of type 'NoneType' has no len()"
     ]
    }
   ],
   "execution_count": 10
  },
  {
   "metadata": {
    "ExecuteTime": {
     "end_time": "2024-06-04T18:36:55.662108Z",
     "start_time": "2024-06-04T18:36:55.658009Z"
    }
   },
   "cell_type": "code",
   "source": "tk_db['win_rate_by_faction'].mean()",
   "id": "433b338783e5f52a",
   "outputs": [
    {
     "data": {
      "text/plain": [
       "nan"
      ]
     },
     "execution_count": 11,
     "metadata": {},
     "output_type": "execute_result"
    }
   ],
   "execution_count": 11
  },
  {
   "metadata": {
    "ExecuteTime": {
     "end_time": "2024-06-04T18:36:55.664835Z",
     "start_time": "2024-06-04T18:36:55.663117Z"
    }
   },
   "cell_type": "code",
   "source": "",
   "id": "ff85ed9fcbb339df",
   "outputs": [],
   "execution_count": 11
  }
 ],
 "metadata": {
  "kernelspec": {
   "display_name": "Python 3",
   "language": "python",
   "name": "python3"
  },
  "language_info": {
   "codemirror_mode": {
    "name": "ipython",
    "version": 2
   },
   "file_extension": ".py",
   "mimetype": "text/x-python",
   "name": "python",
   "nbconvert_exporter": "python",
   "pygments_lexer": "ipython2",
   "version": "2.7.6"
  }
 },
 "nbformat": 4,
 "nbformat_minor": 5
}
